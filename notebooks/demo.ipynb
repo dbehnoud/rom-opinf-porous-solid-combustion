{
 "cells": [
  {
   "cell_type": "markdown",
   "metadata": {},
   "source": [
    "# 🔥 ROM-UQ-Combustion Demo\n",
    "This notebook demonstrates training a ROM and visualizing output."
   ]
  },
  {
   "cell_type": "code",
   "execution_count": null,
   "metadata": {},
   "outputs": [],
   "source": [
    "from src.data_loader import load_snapshots\n",
    "from src.lifters import EulerLifter\n",
    "from src.transformers import get_combustion_transformer\n",
    "from src.rom_builder import train_rom\n",
    "from src.config import STATE_VARIABLES\n",
    "import numpy as np\n",
    "import matplotlib.pyplot as plt"
   ]
  },
  {
   "cell_type": "code",
   "execution_count": null,
   "metadata": {},
   "outputs": [],
   "source": [
    "snapshots = load_snapshots('caseBflatUQ/p875', STATE_VARIABLES)\n",
    "time = np.linspace(0.005, 1.0, 200)\n",
    "rom = train_rom(snapshots, time, get_combustion_transformer(), EulerLifter(), r=15)"
   ]
  },
  {
   "cell_type": "code",
   "execution_count": null,
   "metadata": {},
   "outputs": [],
   "source": [
    "q0 = rom.basis.compress(rom.transformer.fit_transform(rom.lifter.lift(snapshots)))[:,0]\n",
    "Q_ROM = rom.model.predict(q0, time)\n",
    "q_rom = rom.lifter.unlift(rom.transformer.inverse_transform(rom.basis.decompress(Q_ROM)))"
   ]
  },
  {
   "cell_type": "code",
   "execution_count": null,
   "metadata": {},
   "outputs": [],
   "source": [
    "T_rom = np.split(q_rom, len(STATE_VARIABLES))[2]\n",
    "plt.plot(time, T_rom[1367,:])\n",
    "plt.title('ROM Temperature')\n",
    "plt.grid(True)\n",
    "plt.show()"
   ]
  }
 ],
 "metadata": {
  "kernelspec": {
   "display_name": "Python 3",
   "language": "python",
   "name": "python3"
  },
  "language_info": {
   "name": "python",
   "version": "3.8"
  }
 },
 "nbformat": 4,
 "nbformat_minor": 2
}